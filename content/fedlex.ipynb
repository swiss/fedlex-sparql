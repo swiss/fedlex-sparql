{
 "cells": [
  {
   "cell_type": "markdown",
   "metadata": {},
   "source": [
    "<br>\n",
    "\n",
    "<img src=\"https://www.fedlex.admin.ch/assets/pictos/logo-ch.png\" style=\"width:15%; float:right\">\n",
    "\n",
    "# Fedlex Linked Data Tutorial\n",
    "**Version vom 22.11.2024**"
   ]
  },
  {
   "cell_type": "markdown",
   "metadata": {
    "tags": [],
    "trusted": true
   },
   "source": [
    "## Einführung\n",
    "\n",
    "Dieses Tutorial ist dazu gedacht, eine Einführung in Fedlex Linked Data zu geben. Dabei soll einerseits das verwendete Datenmodell vorgestellt werden und anderseits aufgezeigt werden, wie mit Hilfe von SPARQL Abfragen die Daten genutzt werden können. Fedlex ist die Publikationsplattform des schweizerischen Bundesrechts und baut auf Linked Data auf.\n",
    "\n",
    "## Zielpublikum\n",
    "\n",
    "Das Zielpublikum dieses Tutorials sind Personen, die beruflich mit Fedlex Daten zu tun haben und über gute Grundkenntnisse in der Informatik verfügen, die aber noch wenig Knowhow zum Thema Linked Data und SPARQL besitzen.\n",
    "\n",
    "## Interaktives Notebook\n",
    "\n",
    "Dieses Tutorial ist ein sogenanntes **interaktives JupyterLite Notebook**. In diesem Notebook können Sie den Inhalt der einzelnen Zellen interaktiv ändern und diese Zellen direkt ausführen, um das Ergebnis Ihrer Änderungen sofort zu sehen. Die Zellen enthalten entweder [Markdown](https://en.wikipedia.org/wiki/Markdown)-Inhalt (wie diese Zelle) oder ausführbaren Python-Quellcode. Dies ist für ein Tutorial sehr hilfreich, weil Inhalte beliebig mit ausführbarem Quellcode kombiniert werden können. Es können also Abfragen gezeigt werden, diese erklärt werden und darauf weiter aufgebaut werden.\n",
    "\n",
    "**Um direkt loslegen zu können klicken Sie oben im Menu auf Run -> Run All Cells.**  \n",
    "**Einzelne ausgewählte Zellen können sie danach abändern und mit dem \"Play-Button\" erneut ausführen und so Abfragen individuell anpassen.**\n",
    "\n",
    "Das Notebook startet mit einem [Setup](#Setup) der Programierumgebung. Das eigentliche Tutorial startet [hier](#Tutorial).\n",
    "\n",
    "*Zusätzliche Informationen zu JupyterLite:*  \n",
    "JupyterLite is ein spezielles Jupyter Notebook mit dem Vorteil, vollständig browserbasiert zu sein, ohne eine aufwändige Backend-Infrastruktur zu benötigen. Der Nachteil ist, dass die erstmalige Ausführung der Zellen einige Zeit in Anspruch nehmen kann, weil eine erhebliche Menge von Daten geladen werden muss. Dass eine Zelle noch in Ausführung ist, ist am `[*]` links neben der Zelle erkennbar. Nach Abschluss der Ausführung erscheint statt eines `*` eine Zahl. Vor der ersten Ausführung ist eine leere Klammer `[ ]` zu sehen. Nachfolgende wiederholte Ausführungen von Zellen werden aufgrund der gespeicherten Daten in Ihrem Browser-Cache viel schneller sein. Wenn Sie Änderungen am Tutorial vornehmen, werden diese Änderungen automatisch lokal im Browser-Cache gespeichert. Bei einem darauffolgenden Öffnen werden wiederum die Änderungen aus dem Browser-Cache geladen. Um wieder zur Ursprüngsversion des Tutorials zurückzukehren, müssen entweder die Browser-Daten gelöscht werden, oder Sie öffnen das Tutorial in einem Chrome-Inkognito Fenster, wo die Änderungen nach Schliessen des Fensters aus dem Cache gelöscht werden.\n",
    "\n",
    "Wenn Sie mehr über die Handhabung von Jupyter Notebooks wissen wollen, finden Sie hier zwei nützliche Ressourcen:\n",
    "\n",
    "- [Die JupyterLab Interface](https://jupyterlab.readthedocs.io/en/stable/user/interface.html)\n",
    "- [Das Jupyter Notebook](https://jupyterlab.readthedocs.io/en/stable/user/notebook.html)"
   ]
  },
  {
   "cell_type": "markdown",
   "metadata": {
    "trusted": true
   },
   "source": [
    "## Setup\n",
    "\n",
    "Eine SPARQL Abfrage ist nichts anderes als ein POST-Request an den entsprechenden Triple Store Datenbank Server. Um diese Requests und die erhaltenen Antworten einfacher handhaben zu können, enthält dieses Notebook vorbereiteten Python Code, der nachfolgend importiert wird. Zusätzlich wird das `pandas` Modul importiert, welches die Möglichkeit bietet, die tabellarischen Daten der SPARQL Abfragen als [Pandas Dataframes](https://pandas.pydata.org/docs/index.html) weiter zu verarbeiten. "
   ]
  },
  {
   "cell_type": "code",
   "execution_count": null,
   "metadata": {
    "trusted": true
   },
   "outputs": [],
   "source": [
    "import pandas as pd\n",
    "import requests\n",
    "from ext.sparql import query, display_result"
   ]
  },
  {
   "cell_type": "markdown",
   "metadata": {},
   "source": [
    "# Linked Data Einführung"
   ]
  },
  {
   "cell_type": "markdown",
   "metadata": {},
   "source": [
    "Linked Data beschreibt ein **Framework für den Umgang mit Daten**, die sowohl für Menschen nützlich sein sollen, als auch maschinenlesbar sind inkl. einer von Computern verarbeitbaren Semantik. Also sowohl Menschen als auch Computer sollen die Daten \"verstehen\" und interpretieren können. \n",
    "\n",
    "## RDF\n",
    "\n",
    "Das für Linked Data verwendete Datenformat ist RDF (Resource Description Framework). Das bedeutet, dass die Daten nicht als Tabellen (wie beispielsweise in relationalen Datenbanken) sondern als **Triples** abgespeichert werden. Triples folgen der grammatikalischen Struktur **Subjekt -> Prädikat -> Objekt** und können auch als grammatikalischer Satz verstanden werden. \n",
    "\n",
    "Die Information \"**Der Apfel ist grün**\" wird also mit dem Tripel **Apfel -> ist -> grün** ausgedrückt. Alle Teile eines Triples sind dabei durch weitere Eigenschaften definiert und beschrieben die wiederum in Form von Triples beschrieben sind. Diese vielseitigen Verknüpfungen führen zu einer Netzwerkstruktur, zu einem sogenannten Graphen.\n",
    "\n",
    "Nachfolgendes Bild aus dem [W3C Primer für RDF](https://www.w3.org/TR/rdf11-primer/) veranschaulicht diese Zusammenhänge:\n",
    "\n",
    "![](https://www.w3.org/TR/rdf11-primer/example-graph.jpg)"
   ]
  },
  {
   "cell_type": "markdown",
   "metadata": {},
   "source": [
    "## URI\n",
    "\n",
    "Eine weitere wichtige Eigenschaft von Linked Data ist, dass die Teile eines Triples, also Subjekt, Prädikat und Objekt weltweit eindeutig identifizierbar sind. Dafür werden **URI** (Universal Resource Identifier) eingesetzt. Die URI https://fedlex.data.admin.ch/eli/cc/1999/404 beispielsweise ist der weltweit eindeutige Identifier für die Bundesverfassung in der systematischen Rechtssammlung. Typischerweise lassen sich URI **dereferenzieren**, das heisst, ein Request auf die entsprechende URI (bspw. in dem man sie in die Adresszeile eines Browsers eintippt) führt zu einer Website, die Infos zur entsprechenden URI enthält. Im Falle der URI der Bundesverfassung wird man auf eine Webpage weitergeleitet, die diverse Informationen zur Bundesverfassung (Chronologie, Änderungen, etc.) und den eigentlichen Text der Bundesverfassung enthält. Während Prädikate immer URIs sind, können die Objekte auch sogeannte **Literals** sein, also reine Stringwerte (Zahlen und Buchstaben), die eine Information transportieren, aber die nicht dereferenzierbar sind. Solche Literals können beispielsweise Kalenderdaten sein oder Identifier, Namen, etc."
   ]
  },
  {
   "cell_type": "markdown",
   "metadata": {},
   "source": [
    "## SPARQL\n",
    "\n",
    "SPARQL ist eine Query-Sprache für Linked Data Triple Stores ähnlich wie es SQL für relationale Datenbanken ist. Mit Hilfe von SPARQL können Daten nicht nur abgefragt werden, sondern diese können auch gleich weiter aufbereitet werden: Resultate können bspw. gruppiert, summiert oder gemittelt werden. SPARQL Abfragen (engl. Queries) können entweder direkt über ein eigenes Web-Interface eingegeben werden oder als HTTP-POST Request an einen sogenannten SPARQL-Endpoint geschickt werden.\n",
    "\n",
    "Für die Fedlex Daten gelten folgende URLs:\n",
    "\n",
    "- [SPARQL Web-Interface von Fedlex](https://fedlex.data.admin.ch/de-CH/sparql)\n",
    "- SPARQL-Endpoint: https://fedlex.data.admin.ch/sparqlendpoint\n",
    "\n",
    "Die HTTP-POST Requests Methode erlaubt es, eigene Anwendungen zu bauen, die automatisch aktuelle Daten von Fedlex abfragen können. Für dieses Tutorial verwenden wir diese Methode. Die eigentlichen Abfragen sind jedoch in beiden Fällen identisch."
   ]
  },
  {
   "cell_type": "markdown",
   "metadata": {},
   "source": [
    "### Pattern Matching\n",
    "\n",
    "SPARQL Queries sind Aufträge an den Computer, bestimme Muster (Pattern) in den Daten zu finden (matching). Es können also mit Hilfe von SPARQL Muster vorgegeben werden, und die Datenbank gibt alle Triples zurück, die dieses Muster erfüllen. Einzelne Positionen der Triples können dabei bei einer Abfrage bewusst undefiniert gelassen und mit einer Variable bezeichnet werden. Variablen beginnen mit `?` und werden bei der Abfrage durch alle möglichen Elemente gefüllt, die dieses Pattern erfüllen. \n",
    "\n",
    "Eine ausführlicher Anleitung zum Pattern Matching ist [hier](https://programminghistorian.org/en/lessons/retired/graph-databases-and-SPARQL#rdf-in-brief) zu finden. "
   ]
  },
  {
   "cell_type": "markdown",
   "metadata": {},
   "source": [
    "### Aufbau von SPARQL Queries\n",
    "\n",
    "SPARQL Queries folgen einem grundlegenden Aufbau, der immer gleich lautet:\n",
    "\n",
    "```\n",
    "SELECT * WHERE \n",
    "{\n",
    "    ?subject ?predicate ?object.   \n",
    "}\n",
    "```\n",
    "\n",
    "Nach dem Schlüsselwort `SELECT` folgen die Variablen, die als Resultat angezeigt werden sollen, ein `*` bedeutet, dass alle in der Query vorkommenden Variablen angezeigt werden sollen. Nach dem Schlüsselwort `WHERE` und innerhalb von  geschweiften Klammern `{}` folgen nun die einzelnen Pattern, die das zurückgegebene Resultat erfüllen soll. Jedes Pattern wird dabei von einem `.` abgeschlossen.\n",
    "\n",
    "Die oben gezeigte Abfrage ist die \"universelle\" Abfrage, die immer funktioniert, weil sie gar keine Vorgaben an das Pattern macht und auf allen drei Positionen des Triples eine Variable (bezeichnet durch das `?` vor dem Variablenname) beinhaltet. Somit gibt eine solche Abfrage alle Triples der Datenbank zurück (weil ja die Daten in einem Triple Store als Triples vorliegen). Diese Abfrage muss somit noch mit einem `LIMIT` versehen werden, das die zurückgegebene Anzahl von Resultaten beschränkt."
   ]
  },
  {
   "cell_type": "markdown",
   "metadata": {},
   "source": [
    "### Die ersten SPARQL Queries"
   ]
  },
  {
   "cell_type": "markdown",
   "metadata": {},
   "source": [
    "Um im JupyterLite Notebook dieses Tutorials eine neue SPARQL Abfrage zu erstellen, erzeugen Sie eine neue Zelle für Code (\"Plus-Zeichen\" in der Titelzeile des aktuellen Tabs drücken und im Dropdown \"Code\" auswählen. Danach können Sie mit dem Python Befehl `await query(query_string, triple_store)` die Abfrage ausführen, welche als Resultat ein Pandas Dataframe zurückgibt, welches sinnvollerweise einer Variable zugewiesen wird. Das Schlüsselwort `await` ist notwendig, weil die Abfrage asynchronen Code enthält. Die Anzeige des Dataframes erfolgt mit dem Befehl `display_result(df)`, welcher dafür sorgt, dass die URI im Dataframe als klickbare Links dargestellt werden. Die dreifachen Anführungszeichen des `query_string` ermöglichen, den String über mehrere Zeilen umzubrechen und damit eine übersichtliche Darstellung der Query zu erreichen. Um die Daten aus dem Fedlex Triple Store zu beziehen, muss für `triple_store` ein \"F\" Charakter übergeben werden. Soll eine Query aus dem Tutorial über das SPARQL Web-Interface ausgeführt werden, kopieren Sie einfach den Teil zwischen den `\"\"\"` und fügen sie im [SPARQL Web-Interface](https://fedlex.data.admin.ch/de-CH/sparql) ein."
   ]
  },
  {
   "cell_type": "code",
   "execution_count": null,
   "metadata": {
    "trusted": true
   },
   "outputs": [],
   "source": [
    "df = query('''\n",
    "\n",
    "SELECT * WHERE\n",
    "{\n",
    "    ?s ?p ?o.\n",
    "}\n",
    "LIMIT 10\n",
    "\n",
    "''', 'F')\n",
    "\n",
    "display_result(df)"
   ]
  },
  {
   "cell_type": "markdown",
   "metadata": {},
   "source": [
    "Diese \"universelle\" Abfrage ist meist etwas schwierig zu interpretieren. Eine etwas hilfreichere Abfrage kann sein, welche Typen (Klassen) von Objekten vorkommen. Da der Typ eines Elements in RDF wichtig ist, kann ganz einfach mit dem Prädikat `a` nach dem Typ gefragt werden:"
   ]
  },
  {
   "cell_type": "code",
   "execution_count": null,
   "metadata": {
    "trusted": true
   },
   "outputs": [],
   "source": [
    "df = query('''\n",
    "\n",
    "SELECT ?type WHERE\n",
    "{\n",
    "    ?s a ?type. # 'a' ist die Abkürzung für 'http://www.w3.org/1999/02/22-rdf-syntax-ns#type', die immer gilt\n",
    "}\n",
    "LIMIT 20\n",
    "''', 'F')\n",
    "\n",
    "display_result(df)"
   ]
  },
  {
   "cell_type": "markdown",
   "metadata": {},
   "source": [
    "In dieser Form macht die Abfrage immer noch wenig Sinn, weil unter den Resultaten verschiedene die gleiche Klasse haben. Wir möchten aber ja sehen, welche verschiedenen Klassen existieren. Der Grund dafür, dass einzelne Resultate mehrmals auftauchen ist, weil diese ja aus einem Triple stammen. Weil wir nur die Variable `?type` anzeigen, sehen wir aber diese vollständigen Triples nicht (die sich unterscheiden würden). Um jedes Resultat nur einmal zu haben, kann das Schlüsselwort `DISTINCT` angefügt werden:"
   ]
  },
  {
   "cell_type": "code",
   "execution_count": null,
   "metadata": {
    "trusted": true
   },
   "outputs": [],
   "source": [
    "df = query('''\n",
    "\n",
    "SELECT DISTINCT ?type WHERE\n",
    "{\n",
    "    ?s a ?type. # 'a' ist die Abkürzung für 'http://www.w3.org/1999/02/22-rdf-syntax-ns#type', die immer gilt\n",
    "}\n",
    "LIMIT 20\n",
    "''', 'F')\n",
    "\n",
    "display_result(df)"
   ]
  },
  {
   "cell_type": "markdown",
   "metadata": {},
   "source": [
    "### Weitere Ressourcen zu SPARQL\n",
    "\n",
    "- Allgemeine Einführung in SPARQL: https://jena.apache.org/tutorials/sparql.html\n",
    "- Wikidata SPARQL Tutorial: https://www.wikidata.org/wiki/Wikidata:SPARQL_tutorial"
   ]
  },
  {
   "cell_type": "markdown",
   "metadata": {},
   "source": [
    "## Weitere Informationen zu Linked Data\n",
    "\n",
    "Wer vertieft in das Thema Linked Data einsteigen möchte, dem sei beispielsweise [diese Youtube Playlist](https://www.youtube.com/watch?v=ON0wf0SEPx8&list=PLoOmvuyo5UAfY6jb46jCpMoqb-dbVewxg) empfohlen."
   ]
  },
  {
   "cell_type": "markdown",
   "metadata": {},
   "source": [
    "# Die Daten auf Fedlex"
   ]
  },
  {
   "cell_type": "markdown",
   "metadata": {},
   "source": [
    "## Datenmodell JOLux\n",
    "\n",
    "Linked Data und RDF definieren die Grundmechanismen der Datenspeicherung, das eigentliche Datenmodell (auch Ontologie oder Schema genannt) muss in der jeweiligen Anwendung festgelegt werden. Das von Fedlex verwendete Datenmodell heisst **JOLux**. Dieses stammt ursprünglich aus Luxemburg und wird inzwischen von der Schweiz und Luxemburg gemeinsam weiterentwickelt. Das Datenmodell basiert auf dem [FRBR-Standard](https://de.wikipedia.org/wiki/Functional_Requirements_for_Bibliographic_Records) (Functional Requirements for Bibliographic Records), einem Entity-Relationship-Modell zur Beschreibung bibliographischer Daten, das für die Beschreibung von Rechtstexten adaptiert wurde. **JOLux** definiert, welche Art von Objekten es gibt, wie diese in Beziehung stehen können und mit welchem Vokabular (also mit welchen Prädikaten und Objekten) diese bezeichnet werden. Weitere Informationen über das Datenmodell JOLux finden Sie [hier](https://fedlex.data.admin.ch/de-CH/home/models)."
   ]
  },
  {
   "cell_type": "markdown",
   "metadata": {},
   "source": [
    "## Amtliche Sammlung"
   ]
  },
  {
   "cell_type": "markdown",
   "metadata": {},
   "source": [
    "In der **Amtlichen Sammlung (AS)** (Englisch: Official Compilation (OC)) des Bundesrechts werden die neuen und geänderten Erlasse, Verträge und Beschlüsse chronologisch veröffentlicht. Typischerweise haben Beschlüsse die Form eines Mantelerlasses, in denen sowohl neue Gesetze erlassen werden, als auch schon bestehende geändert oder aufgehoben werden können. Jede Veröffentlichung in der amtlichen Sammlung erhält eine eindeutige AS-Nummer (z.B. [AS 2021 654](https://www.fedlex.admin.ch/eli/oc/2021/654)). Weitere Erläuterungen zur amtlichen Sammlung sind [hier](https://www.fedlex.admin.ch/de/oc/explanations-oc) zu finden."
   ]
  },
  {
   "cell_type": "markdown",
   "metadata": {
    "tags": []
   },
   "source": [
    "## Systematische Rechtssammlung"
   ]
  },
  {
   "cell_type": "markdown",
   "metadata": {},
   "source": [
    "Die **Systematische Rechtssammlung (SR)** (Englisch: Consolidated Compilation (CC)) des Bundesrechts stellt die konsolidierte Fassung des aktuell gültigen Rechts basierend auf der amtlichen Sammlung dar. Jeder Gesetzestext bekommt eine SR-Nummer (z.B. [SR 101](https://www.fedlex.admin.ch/eli/cc/1999/404) für die Bundesverfassung), welche sich nicht auf eine bestimmte Version eines Gesetzes bezieht, sondern auf das Gesetz im Allgemeinen. Erscheint ein neuer Erlass in der AS der Teile des entsprechenden Gesetzes revidiert (z.B. Teile der Bundesverfassung durch [AS 2022 241](https://www.fedlex.admin.ch/eli/oc/2022/241)), so werden diese Änderungen in der systematischen Rechtssammlung konsolidiert und unter gleichbleibender SR-Nummer veröffentlicht (im Beispiel weiterhin SR 101). Eine SR-Nummer ist innerhalb des geltenden Rechts eindeutig. In Fällen in denen ein Gesetz im gesamten aufgehoben und von einem neuen Gesetz abgelöst wird (z.B. bei einer Totalrevision), kann es vorkommen, dass die SR-Nummer vom Vorgängegesetz übernommen wird. So teilt sich beispielsweise die geltende Bundesverfassung, als Ergebnis der Totalrevision von [1999](https://www.fedlex.admin.ch/eli/cc/1999/404), die SR-Nummer 101 mit ihrer Vorgängerversion von [1878](https://www.fedlex.admin.ch/eli/cc/1/1_1_1). Weitere Erläuterungen zur systematischen Rechtssammlung sind [hier](https://www.fedlex.admin.ch/de/cc/explanations-cc) zu finden."
   ]
  },
  {
   "cell_type": "markdown",
   "metadata": {},
   "source": [
    "## Aufbau der URI bei Fedlex"
   ]
  },
  {
   "cell_type": "markdown",
   "metadata": {},
   "source": [
    "URI können grundsätzlich sprechend oder nicht sprechend aufgebaut sein. Sprechend heisst in diesem Zusammenhang, dass die URI schon etwas über das entsprechende Objekt kodieren. Nicht sprechende URI sind typischerweise als beliebige Folgen von Zahlen und Buchstaben aufgebaut. Die URI von Fedlex sind sprechend und richten sich nach dem europäischen [ELI-Standard](https://de.wikipedia.org/wiki/European_Legislation_Identifier) (European Legislation Identifier) zur Bezwichnung von Rechtstexten. Alle URIs beginnen mit `https://fedlex.data.admin.ch/eli/`. Die Einträge für die AS beginnen mit `https://fedlex.data.admin.ch/eli/oc/` und diejenigen für die SR mit `https://fedlex.data.admin.ch/eli/cc/`. Der weitere Aufbau der URI ist [hier](https://fedlex.data.admin.ch/de-CH/home/convention) erklärt."
   ]
  },
  {
   "cell_type": "markdown",
   "metadata": {},
   "source": [
    "## Metadaten und Triples"
   ]
  },
  {
   "cell_type": "markdown",
   "metadata": {},
   "source": [
    "Mit welchen Linked Data Triples ein bestimmter Eintrag in der AS oder SR in der Datenbank beschrieben ist, lässt sich über den [Metadaten-Explorer](https://fedlex.data.admin.ch/de-CH/metadata) anzeigen. Dazu müssen die entsprechenden URIs im Metadaten-Explorer eingegeben werden.\n",
    "\n",
    "Die URI eines AS oder SR Eintrags lässt sich über die Web-Darstellung des entsprechenden Eintrags finden, indem man auf das Ketten-Symbol direkt neben \"Alles einblenden\" klickt:\n",
    "<br><img src=\"img/header_BV_URI.png\" width=\"800px\">\n",
    "\n",
    "[In den Metadaten-Explorer eingegeben](https://fedlex.data.admin.ch/de-CH/metadata?value=https://fedlex.data.admin.ch/eli/cc/1999/404) zeigt die oben genannte URI die abgespeicherten Eigenschaften der Bundesverfassung.\n",
    "<br><img src=\"img/metadata.png\" width=\"800px\">\n",
    "\n",
    "Um direkt den Metadaten-Explorer Eintrag für eine bestimmte URI zu erhalten, lässt sich die URI als Parameter in der URL zum Metadaten-Explorer hinzufügen, für die Bundesverfassung also: https://fedlex.data.admin.ch/de-CH/metadata?value=https://fedlex.data.admin.ch/eli/cc/1999/404\n",
    "\n",
    "Fedlex ist so aufgebaut, dass die Dereferenzierung einer URI (also das Anzeigen der entsprechenden Website) mit einer von der URI abweichenden URL geschieht, die sich jedoch aus der URI ableiten lässt und auf die man bei Eingabe der URI in der Browser-Adresszeile auch automatisch weitergeleitet wird:\n",
    "\n",
    "* URI: https://fedlex.data.admin.ch/eli/cc/1999/404\n",
    "* URL (Dereferenzierung der URI für Deutsch): https://www.fedlex.admin.ch/eli/cc/1999/404/de"
   ]
  },
  {
   "cell_type": "markdown",
   "metadata": {},
   "source": [
    "## Prefixes"
   ]
  },
  {
   "cell_type": "markdown",
   "metadata": {},
   "source": [
    "URIs sind analog zu Webadressen aufgebaut. Um die Lesbarkeit zu verbessern, können Abkürzungen, sogenannte **Prefixes** definiert werden, die häufig genutzte Teile einer URI zusammenfassen, bspw. `fedlex` als Prefix für `https://fedlex.data.admin.ch/eli/`. Aus `https://fedlex.data.admin.ch/eli/cc/1999/404` wird dann `fedlex:cc/1999/404`.\n",
    "\n",
    "Für die weiteren Teile des Tutorials definieren wir die folgenden Prefixes:\n",
    "* `fedlex` für `https://fedlex.data.admin.ch/eli/`; Namensraum für AS und SR Einträge\n",
    "* `jolux` für `http://data.legilux.public.lu/resource/ontology/jolux#`; Vokabular für das JOLux Datenmodell\n",
    "* `skos` für `http://www.w3.org/2004/02/skos/core#`; Externes Vokabular\n",
    "* `rdf` für `http://www.w3.org/1999/02/22-rdf-syntax-ns#`; Externes Vokabular\n",
    "\n",
    "Mehr zum Aufbau der URIs auf Fedlex finden Sie [hier](https://fedlex.data.admin.ch/de-CH/home/convention)."
   ]
  },
  {
   "cell_type": "markdown",
   "metadata": {
    "tags": []
   },
   "source": [
    "# Das Datenmodell erforschen und Daten abfragen"
   ]
  },
  {
   "cell_type": "markdown",
   "metadata": {},
   "source": [
    "Um die gespeicherten Daten bspw. zur Bundesverfassung zu erhalten, gibt es drei Möglichkeiten:\n",
    "\n",
    "- Die HTML Version (dereferenzierte URI) unter https://www.fedlex.admin.ch/eli/cc/1999/404/de\n",
    "- Den Metadaten-Explorer unter https://fedlex.data.admin.ch/de-CH/metadata?value=https://fedlex.data.admin.ch/eli/cc/1999/404\n",
    "- Die Abfrage der weiteren Daten mit SPARQL, einer Sprache zum Abfragen von Linked Data Datenbanken (so genannten Triple Stores), ähnlich zu SQL.\n",
    "\n",
    "Die Website https://fedlex.admin.ch und alle dort angzeigten Daten basieren auf den Linked Data aus dem Triple Store. Informationen, die auf den HTML-Seiten von Fedlex zu sehen sind, sind also auch maschinenlesbar via SPARQL Abfrage verfügbar. Nachfolgend soll Schritt für Schritt das Datenmodell von Fedlex eingeführt werden und die entsprechenden SPARQL Queries aufgezeigt werden, um auf diese Daten maschinenlesbar zugreifen zu können."
   ]
  },
  {
   "cell_type": "markdown",
   "metadata": {},
   "source": [
    "## Metadaten zur Bundesverfassung"
   ]
  },
  {
   "cell_type": "markdown",
   "metadata": {},
   "source": [
    "Wenn wir Infos zur Bundesverfassung wollen, können wir nach Triples suchen, in denen die Bundesverfassung als Subjekt erscheint. Dies geschieht mit folgender SPARQL Query:"
   ]
  },
  {
   "cell_type": "code",
   "execution_count": null,
   "metadata": {
    "trusted": true
   },
   "outputs": [],
   "source": [
    "df = query(\"\"\"\n",
    "\n",
    "# SELECT beschreibt welche Variablen zurückgegeben werden sollen.\n",
    "# Mit DISTINCT werden allfällige doppelte Ergebnisse aussortiert.\n",
    "\n",
    "SELECT DISTINCT ?Praedikat ?Objekt WHERE {\n",
    "    \n",
    "    # Die Aussage beginnt mit der URI der Bundesverfassung als Subjekt, setzt das Prädikat und Objekt als Variablen und endet mit einem Punkt.\n",
    "    <https://fedlex.data.admin.ch/eli/cc/1999/404> ?Praedikat ?Objekt .\n",
    "} \n",
    "\n",
    "\"\"\", \"F\")\n",
    "\n",
    "display_result(df)"
   ]
  },
  {
   "cell_type": "markdown",
   "metadata": {},
   "source": [
    "Das Ergebniss ist eine Tabelle (eigentlich Pandas Dataframe) mit allen Prädikaten und den entsprechenden Objekten, die in allen abgespeicherten Triples mit der Bundesverfassung als Subjekt vorkommen. Als Objekte finden wir sowohl **URIs**, Objekte die dereferenzierbar und ihrerseits mit Prädikaten beschrieben sind, als auch **Literals**, Strings die eine bestimmte Information (z.B. Datum) transportieren."
   ]
  },
  {
   "cell_type": "markdown",
   "metadata": {},
   "source": [
    "Wir sehen, dass die Bundesverfassung vom `rdf:type` `jolux:ConsolidationAbstract` ist. Dieser Typ beschreibt Objekte, die einen SR-Eintrag darstellen, also ein Gesetz auf abstrakter Ebene repräsentieren."
   ]
  },
  {
   "cell_type": "markdown",
   "metadata": {},
   "source": [
    "## TaxonomyEntries: Begriffsverzeichniss"
   ]
  },
  {
   "cell_type": "markdown",
   "metadata": {},
   "source": [
    "Jedem SR-Eintrag ist über das Prädikat `classifiedByTaxonomyEntry` ein Eintrag in einem [Begriffsverzeichniss](https://fedlex.data.admin.ch/vocabularies/de/) zugeordnet. Dieses dient unter anderem dazu Fachbegriffen und Konzepten eine eindeutige Bedeutung und Identität zu geben. Im Datensatz von Fedlex ist der TaxonomyEntry die zuverlässigste Quelle zum Abfragen der SR-Nummer eines SR-Eintrags. Die SR-Nummer ist mit dem TaxonomyEntry durch das Prädikat `skos:notation` verknüpft:\n",
    "\n",
    "<br><br><img src=img/taxonomy.svg>\n",
    "<br><br>\n",
    "\n",
    "Die obige Abbildung zeigt die Verknüpfung der Bundesverfassung mit ihrer SR-Nummer repräsentiert im JoLux Datenmodell."
   ]
  },
  {
   "cell_type": "markdown",
   "metadata": {},
   "source": [
    "## Expressions: Sprachversionen der SR Einträge"
   ]
  },
  {
   "cell_type": "markdown",
   "metadata": {},
   "source": [
    "Da alle Texte in der Systematischen Rechtssammlung in verschiedenen Sprachen existieren (und die URI https://fedlex.data.admin.ch/eli/cc/1999/404 der Bundesverfassung ja keinen Hinweis auf eine bestimmte Sprache gibt), müssen also innerhalb eines `jolux:ConsolidationAbstract` verschiedene Sprachversionen existieren. Diese sind vom `rdf:type` `jolux:Expression` und sind durch die Eigenschaft `jolux:isRealizedBy` mit dem sprachübergreifenden Eintrag des `jolux:ConsolidationAbstract` verknüpft."
   ]
  },
  {
   "cell_type": "markdown",
   "metadata": {},
   "source": [
    "Mit einem Klick auf die URI der deutschen Sprachversion (https://fedlex.data.admin.ch/eli/cc/1999/404/de) sehen wir, dass wir hier sowohl den Titel als auch die Abkürzung auf deutsch finden. Diese URI beschreibt nicht den deutschen Text der eigentlichen Bundesverfassung sondern repräsentiert nur die \"Kopfdaten\" der Bundesverfassung, also Titel und Abkürzung. Der eigentliche Inhalt ist über die [Consolidations](#Consolidations:-Versionen-der-SR-Einträge) angebunden.\n",
    "\n",
    "<br><br><img src=img/expression.svg>\n",
    "<br><br>\n",
    "\n",
    "Ausgehend von der URI der Bundesverfassung sowie dem Wissen über TaxonomyEntries und Expressions können wir nun die Information über SR-Nummer, Titel und Abkürzung der Bundesverfassung abfragen."
   ]
  },
  {
   "cell_type": "code",
   "execution_count": null,
   "metadata": {
    "trusted": true
   },
   "outputs": [],
   "source": [
    "df = query(\"\"\"\n",
    "\n",
    "# Definition der Prefixes zur besseren Lesbarkeit\n",
    "PREFIX jolux: <http://data.legilux.public.lu/resource/ontology/jolux#>\n",
    "PREFIX skos: <http://www.w3.org/2004/02/skos/core#>\n",
    "\n",
    "SELECT DISTINCT ?SR_Nummer ?Titel ?Abkuerzung WHERE {\n",
    "    \n",
    "    # Die erste Aussage wählt den TaxonomyEntry der Bundesverfassung aus\n",
    "    <https://fedlex.data.admin.ch/eli/cc/1999/404> jolux:classifiedByTaxonomyEntry ?TaxonomyEntry .\n",
    "    # Vom TaxonomyEntry bekommen wir die SR-Nummer\n",
    "    ?TaxonomyEntry skos:notation ?SR_Nummer .\n",
    "    \n",
    "    # Als nächstes wählen wir alle Expressions (Sprachversionen) aus die durch jolux:isRealizedBy mit der Bundesverfassung verknüpft sind.\n",
    "    <https://fedlex.data.admin.ch/eli/cc/1999/404> jolux:isRealizedBy ?Expression .\n",
    "    \n",
    "    # Dann grenzen wir die Expressions auf diejenige mit der Sprache Deutsch ein.\n",
    "    ?Expression jolux:language <http://publications.europa.eu/resource/authority/language/DEU> .\n",
    "    \n",
    "    # Die nächsten Aussagen fragen die gewünschen Daten ab, jeweils mit der Expression als Subjekt (möglich durch das Beenden der Aussage mit ; anstatt .)\n",
    "    ?Expression jolux:title ?Titel ;\n",
    "                jolux:titleShort ?Abkuerzung .\n",
    "} \n",
    "\n",
    "\"\"\", \"F\")\n",
    "\n",
    "display_result(df)"
   ]
  },
  {
   "cell_type": "markdown",
   "metadata": {},
   "source": [
    "## Liste aller SR Einträge"
   ]
  },
  {
   "cell_type": "markdown",
   "metadata": {},
   "source": [
    "Basierend auf dem was wir bereits gelernt haben können wir nun ganz einfach eine Liste aller SR-Einträge und die dazugehörigen Metadaten abfragen, indem wir die URI der Bundesverfassung durch eine Variable ersetzen die vom `rdf:type` `jolux:ConsolidationAbstract` sein soll (also einen SR Eintrag darstellt):"
   ]
  },
  {
   "cell_type": "code",
   "execution_count": null,
   "metadata": {
    "trusted": true
   },
   "outputs": [],
   "source": [
    "df = query(\"\"\"\n",
    "\n",
    "# Definition von Prefixes zur besseren Lesbarkeit\n",
    "PREFIX rdf: <http://www.w3.org/1999/02/22-rdf-syntax-ns#>\n",
    "PREFIX jolux: <http://data.legilux.public.lu/resource/ontology/jolux#>\n",
    "PREFIX skos: <http://www.w3.org/2004/02/skos/core#>\n",
    "\n",
    "SELECT DISTINCT ?SR_Nummer ?Titel ?Abkuerzung ?SR_URI WHERE {\n",
    "    \n",
    "    # Alle Objekte vom Typ ConsolidationAbstract auswählen\n",
    "    ?SR_URI rdf:type jolux:ConsolidationAbstract .\n",
    "    \n",
    "    # Alle TaxonomyEntries und Expressions der SR-Einträge auswählen\n",
    "    ?SR_URI jolux:classifiedByTaxonomyEntry ?TaxonomyEntry ;\n",
    "            jolux:isRealizedBy ?Expression .\n",
    "    \n",
    "    ?TaxonomyEntry skos:notation ?SR_Nummer .\n",
    "    \n",
    "    ?Expression jolux:language <http://publications.europa.eu/resource/authority/language/DEU> .\n",
    "    \n",
    "    ?Expression jolux:title ?Titel ;\n",
    "                jolux:titleShort ?Abkuerzung .\n",
    "} \n",
    "\n",
    "# Wir beschränken die Ausgabe auf die ersten 10 Einträge\n",
    "LIMIT 10\n",
    "\n",
    "\"\"\", \"F\")\n",
    "\n",
    "display_result(df)"
   ]
  },
  {
   "cell_type": "markdown",
   "metadata": {},
   "source": [
    "Der Übersicht halber wurde die Ausgabe mit dem Keyword `LIMIT` auf die ersten 10 Einträge begrenzt."
   ]
  },
  {
   "cell_type": "markdown",
   "metadata": {},
   "source": [
    "## Durchsuchen der SR-Einträge nach Abkürzung\n",
    "\n",
    "Falls nach SR-Einträgen mit einer bestimmten Abkürzung gesucht werden soll, ist das mit einer kleinen Anpassung der vorherigen Abfrage möglich. Dazu muss lediglich die Variable `?Abkürzung` durch den gesuchten Wert (z.B. \"BankV\" für die Bankenverordnung) ersetzt werden. Da der gesuchte Wert ein Literal ist, muss er in Anführungszeichen gesetzt werden:"
   ]
  },
  {
   "cell_type": "code",
   "execution_count": null,
   "metadata": {
    "trusted": true
   },
   "outputs": [],
   "source": [
    "df = query(\"\"\"\n",
    "\n",
    "# Definition von Prefixes zur besseren Lesbarkeit\n",
    "PREFIX rdf: <http://www.w3.org/1999/02/22-rdf-syntax-ns#>\n",
    "PREFIX jolux: <http://data.legilux.public.lu/resource/ontology/jolux#>\n",
    "PREFIX skos: <http://www.w3.org/2004/02/skos/core#>\n",
    "\n",
    "SELECT DISTINCT ?SR_Nummer ?Titel ?SR_URI WHERE {\n",
    "    \n",
    "    # Alle Objekte vom Typ ConsolidationAbstract auswählen\n",
    "    ?SR_URI rdf:type jolux:ConsolidationAbstract .\n",
    "    \n",
    "    # Alle TaxonomyEntries und Expressions der SR-Einträge auswählen\n",
    "    ?SR_URI jolux:classifiedByTaxonomyEntry ?TaxonomyEntry ;\n",
    "            jolux:isRealizedBy ?Expression .\n",
    "    \n",
    "    ?TaxonomyEntry skos:notation ?SR_Nummer .\n",
    "    \n",
    "    ?Expression jolux:language <http://publications.europa.eu/resource/authority/language/DEU> .\n",
    "    \n",
    "    ?Expression jolux:title ?Titel ;\n",
    "                jolux:titleShort \"BankV\" .\n",
    "} \n",
    "\n",
    "# Wir beschränken die Ausgabe auf die ersten 10 Einträge\n",
    "LIMIT 10\n",
    "\n",
    "\"\"\", \"F\")\n",
    "\n",
    "display_result(df)"
   ]
  },
  {
   "cell_type": "markdown",
   "metadata": {},
   "source": [
    "Die Suche nach \"BankV\" ergibt zwei Gesetze die sich sowohl die Abkürzung, als auch die SR-Nummer teilen. In diesem Fall wurde die Bankenverordung 2014 einer Totalrevision unterzogen. Im Gegensatz zur Änderung einzelner Abschnitte, hat hier also ein neues Gesetz das gesamte alte Gesetz von 1972 abgelöst."
   ]
  },
  {
   "cell_type": "markdown",
   "metadata": {
    "tags": []
   },
   "source": [
    "## Filtern nach geltendem Recht"
   ]
  },
  {
   "cell_type": "markdown",
   "metadata": {},
   "source": [
    "In der vorherigen Abfrage haben wir gesehen, dass die Datenbank sowohl geltendes Recht, als auch aufgehobenes Recht beinhaltet. Das Datum des erstmaligen Inkraftretens ist mit `jolux:dateEntryInForce` mit dem SR-Eintrag verknüpft. Einträge die nicht mehr in Kraft sind, haben ein zusätzliches Attribut `jolux:dateNoLongerInForce`, das das Datum der Aufhebung des Gesetzes beschreibt.\n",
    "\n",
    "Wollen wir unsere Abfrage der SR-Einträge auf das aktuell geltende Recht beschränken, können wir die Ergebnisse entsprechend filtern:"
   ]
  },
  {
   "cell_type": "code",
   "execution_count": null,
   "metadata": {
    "trusted": true
   },
   "outputs": [],
   "source": [
    "df = query(\"\"\"\n",
    "\n",
    "# Definition von Prefixes zur besseren Lesbarkeit\n",
    "PREFIX rdf: <http://www.w3.org/1999/02/22-rdf-syntax-ns#>\n",
    "PREFIX jolux: <http://data.legilux.public.lu/resource/ontology/jolux#>\n",
    "PREFIX skos: <http://www.w3.org/2004/02/skos/core#>\n",
    "\n",
    "SELECT DISTINCT ?SR_Nummer ?Titel ?Abkuerzung ?SR_URI WHERE {\n",
    "    \n",
    "    ?SR_URI rdf:type jolux:ConsolidationAbstract .\n",
    "    \n",
    "    # Auswählen des Datums des Inkrafttretens\n",
    "    ?SR_URI jolux:dateEntryInForce ?datumInKraft .\n",
    "    # Auswählen der SR-Einträge die vor dem heutigen Datum in Kraft getreten sind\n",
    "    FILTER( ( xsd:date(?datumInKraft) <= xsd:date(now()) ) )\n",
    "    \n",
    "    # Auswählen des Aufhebungsdatums, falls vorhanden\n",
    "    OPTIONAL { ?SR_URI jolux:dateNoLongerInForce ?datumAufhebung . }\n",
    "    # Auswälen der SR-Einträge die entweder kein Aufhebungsdatum haben, oder bei denen es noch in der Zukunft liegt\n",
    "    FILTER( !bound(?datumAufhebung) || xsd:date(?datumAufhebung) >= xsd:date(now()) )\n",
    "    \n",
    "    ?SR_URI jolux:classifiedByTaxonomyEntry ?TaxonomyEntry ;\n",
    "            jolux:isRealizedBy ?Expression .\n",
    "    \n",
    "    ?TaxonomyEntry skos:notation ?SR_Nummer .\n",
    "    \n",
    "    ?Expression jolux:language <http://publications.europa.eu/resource/authority/language/DEU> .\n",
    "    \n",
    "    ?Expression jolux:title ?Titel ;\n",
    "                jolux:titleShort ?Abkuerzung .\n",
    "} \n",
    "\n",
    "# Wir sortieren die Einträge nach Datum des Inkrafttretens in aufsteigender Reihenfolge (älteste zuerst)\n",
    "ORDER BY ASC(?datumInKraft)\n",
    "\n",
    "# Wir beschränken die Ausgabe auf die ersten 10 Einträge\n",
    "LIMIT 10\n",
    "\n",
    "\"\"\", \"F\")\n",
    "\n",
    "display_result(df)"
   ]
  },
  {
   "cell_type": "markdown",
   "metadata": {},
   "source": [
    "Mit dem Befehl `FILTER` können die Ergebnisse gemäss einer logischen Bedingung eingegrenzt werden. In unserem Fall werden zwei Daten vom Datentyp `xsd:date` miteinander verglichen, worbei `now()` das aktuelle Datum abruft. Ein `!` vor einer logischen Bedingung bedeuted \"nicht\" und negiert diese. \n",
    "\n",
    "Innerhalb der Umgebung `OPTIONAL` können Triples angegeben werden die optional sind, dass heisst die nicht für alle Ergebnisse existieren müssen. Hier wird sie genutzt, um das Aufhebungsdatum abzurufen, welches nur für einen Teil der SR-Einträge definiert ist. Der Ausdruck `bound()` kann dann genutzt werden, um zu überprüfen, ob für die Variable ein Wert gefunden wurde.\n",
    "\n",
    "Mit dem Befehl `ORDER BY` wurde die Ausgabe nach Datum des Inkraftretens sortiert.\n",
    "\n",
    "Wir sehen nun, dass das älteste noch in Kraft gebliebende Gesetz aus dem Jahre 1892 stammt. Allerdings wurde auch dieses Gesetz über die Jahre immer wieder angepasst und verändert."
   ]
  },
  {
   "cell_type": "markdown",
   "metadata": {},
   "source": [
    "## Consolidations: Versionen der SR Einträge"
   ]
  },
  {
   "cell_type": "markdown",
   "metadata": {},
   "source": [
    "Ein SR Eintrag vom `rdf:type` `jolux:ConsolidationAbstract` beschreibt einen Gesetzestext in der Systematischen Rechtssammlung auf abstrakter Ebene über die Zeit seines Bestehens hinweg. Die konkrete Version des konsolidierten Gesetzestextes zu einem bestimmten Zeitpunkt ist als ein Objekt vom `rdf:type` `jolux:Consolidation` abgespeichert und mit dem Prädikat `jolux:isMemberOf` mit dem entsprechenden SR Eintrag verknüpft (Beispiel: [Bundesverfassung Version vom 13.02.2022](https://fedlex.data.admin.ch/de-CH/metadata?value=https:%2F%2Ffedlex.data.admin.ch%2Feli%2Fcc%2F1999%2F404%2F20220213))."
   ]
  },
  {
   "cell_type": "markdown",
   "metadata": {},
   "source": [
    "<br><img src=img/consolidation.svg>\n",
    "<br>"
   ]
  },
  {
   "cell_type": "markdown",
   "metadata": {},
   "source": [
    "Ausgehend von der URI der Bundesverfassung können wir nun eine Liste der verschiedenen Versionen abfragen:"
   ]
  },
  {
   "cell_type": "code",
   "execution_count": null,
   "metadata": {
    "trusted": true
   },
   "outputs": [],
   "source": [
    "df = query(\"\"\"\n",
    "\n",
    "# Definition von Abkürzungen zur besseren Lesbarkeit\n",
    "PREFIX rdf: <http://www.w3.org/1999/02/22-rdf-syntax-ns#>\n",
    "PREFIX jolux: <http://data.legilux.public.lu/resource/ontology/jolux#>\n",
    "\n",
    "SELECT DISTINCT ?Consolidation_Datum ?Consolidation_URI WHERE {\n",
    "    \n",
    "    # Alle Consolidations auswählen die zur Bundesverfassung gehören\n",
    "    ?Consolidation_URI jolux:isMemberOf <https://fedlex.data.admin.ch/eli/cc/1999/404> ;\n",
    "                      # Abfragen des Datums des Inkrafttretens der speziefischen Version\n",
    "                      jolux:dateApplicability ?Consolidation_Datum .\n",
    "} \n",
    "\n",
    "# Wir ordnen die Ausgabe nach absteigendem Datum (neueste zuerst)\n",
    "ORDER BY DESC(?Consolidation_Datum)\n",
    "\n",
    "# Wir beschränken die Ausgabe auf die ersten 10 Einträge\n",
    "LIMIT 10\n",
    "\n",
    "\"\"\", \"F\")\n",
    "\n",
    "display_result(df)"
   ]
  },
  {
   "cell_type": "markdown",
   "metadata": {},
   "source": [
    "## Manifestations: Dateiformate und Datenzugriff <a class=\"anchor\" id=\"manifestations\"></a>"
   ]
  },
  {
   "cell_type": "markdown",
   "metadata": {},
   "source": [
    "Jede Version (`jolux:Consolidation`) eines SR-Eintrags (`jolux:ConsolidationAbstract`) hat dabei wiederum verschiedene Sprachversionen (`jolux:Expression`). Rufen wir die Metadaten einer solchen ab (Beispiel: [Bundesverfassung in Deutsch, Version vom 13.02.2022](https://fedlex.data.admin.ch/eli/cc/1999/404/20220213/de)), sehen wir, dass die `jolux:Expression` durch `jolux:isEmbodiedBy` wiederum mit verschiedenen Objekten vom `rdf:type` `jolux:Manifestation` verknüpft ist. Diese repräsentieren die verschiedenen Dateiformate (XML, PDF, HTML, docx, doc) in denen der Text zur Verfügung steht und zeigen ihrerseits mit dem Prädikat `jolux:isExemplifiedBy` auf den dazugehörigen Downloadlink für das Dokument."
   ]
  },
  {
   "cell_type": "markdown",
   "metadata": {},
   "source": [
    "<br><img src=img/manifestation.svg>\n",
    "<br>"
   ]
  },
  {
   "cell_type": "markdown",
   "metadata": {},
   "source": [
    "Mit dem Wissen über Textversionen, Sprachversionen, und Dateiformate können wir nun die vorherige Abfrage ergänzen und uns zusätzlich den Link zu dem jeweiligen PDF der verschiedenen deutschen Versionen der Bundesverfassung ausgeben lassen:"
   ]
  },
  {
   "cell_type": "code",
   "execution_count": null,
   "metadata": {
    "trusted": true
   },
   "outputs": [],
   "source": [
    "df = query(\"\"\"\n",
    "\n",
    "# Definition von Abkürzungen zur besseren Lesbarkeit\n",
    "PREFIX rdf: <http://www.w3.org/1999/02/22-rdf-syntax-ns#>\n",
    "PREFIX jolux: <http://data.legilux.public.lu/resource/ontology/jolux#>\n",
    "\n",
    "SELECT DISTINCT ?Consolidation_Datum ?Consolidation_URI ?PDF_Link WHERE {\n",
    "    \n",
    "    ?Consolidation_URI jolux:isMemberOf <https://fedlex.data.admin.ch/eli/cc/1999/404> ;\n",
    "                      jolux:dateApplicability ?Consolidation_Datum ;\n",
    "                      # Wähle alle Sprachversionen der verschiedenen Textversionen\n",
    "                      jolux:isRealizedBy ?Expression .\n",
    "                      \n",
    "    # Reduziere die Auswahl auf die deutschen Sprachversionen\n",
    "    ?Expression jolux:language <http://publications.europa.eu/resource/authority/language/DEU> ;\n",
    "                # Wähle alle verfügbaren Dateiformate der Sprachversion\n",
    "                jolux:isEmbodiedBy ?Manifestation .\n",
    "    \n",
    "    # Reduziere die Auswahl auf Einträge mit dem Datenformat PDF\n",
    "    ?Manifestation jolux:format <http://publications.europa.eu/resource/authority/file-type/PDF>;\n",
    "                   # Rufe den Download-Link zum entsprechenden Dokument ab\n",
    "                   jolux:isExemplifiedBy ?PDF_Link\n",
    "\n",
    "} \n",
    "\n",
    "# Wir ordnen die Ausgabe nach absteigendem Datum (neueste zuerst)\n",
    "ORDER BY DESC(?Consolidation_Datum)\n",
    "\n",
    "# Wir beschränken die Ausgabe auf die ersten 10 Einträge\n",
    "LIMIT 10\n",
    "\n",
    "\"\"\", \"F\")\n",
    "\n",
    "display_result(df)"
   ]
  },
  {
   "cell_type": "markdown",
   "metadata": {},
   "source": [
    "## Citations und Subdivisions: Zitate zwischen SR-Einträgen<a class=\"anchor\" id=\"citations\"></a>"
   ]
  },
  {
   "cell_type": "markdown",
   "metadata": {},
   "source": [
    "Gesetzestexte nehmen häufig Bezug aufeinander in Form von Zitaten. Auf der HTML-Seite eines SR-Eintrags lässt sich über den Link \"Zitate\" eine Liste aller SR-Einträge anzeigen welche den entsprechenden Text referenzieren, hier z.B. für die Bundesverfassung: https://www.fedlex.admin.ch/eli/cc/1999/404/de/quotes. \n",
    "\n",
    "<br><img src=\"img/header_BV_Zitate.png\" width=\"800px\">\n",
    "\n",
    "Im JoLux Datenmodell sind diese Verknüpfungen als Objekte vom `rdf:type` `jolux:Citation` abgespeichert, welche sowohl auf den zitierenden (mit `jolux:citationFromLegalResource`) als auch auf den zitierten Eintrag (mit `jolux:citationToLegalResource`) zeigen:"
   ]
  },
  {
   "cell_type": "markdown",
   "metadata": {},
   "source": [
    "<br><img src=img/citations.svg>\n",
    "<br>"
   ]
  },
  {
   "cell_type": "markdown",
   "metadata": {},
   "source": [
    "Das obige Beispiel zeigt ein [Zitat](https://fedlex.data.admin.ch/eli/cc/1977/1352_1352_1352/text/20170601/citation/3) von Artikel 10 des [Bundesgesetz vom 19. März 1976 über die internationale Entwicklungszusammenarbeit und humanitäre Hilfe](https://fedlex.data.admin.ch/eli/cc/1977/1352_1352_1352) auf die [Bundesverfassung](https://www.fedlex.admin.ch/eli/cc/1999/404/de), ausgedrückt im JoLux Datenmodell. Die Citation ist dabei nicht mit den entsprechenden SR-Einträgen direkt verknüpft sondern nur mit einem Teil davon. Untergeordnete Teile eines SR-Eintrags können entweder den enthaltenen Text oder einzelen Abschnitte und Artikel repräsentieren und sind vom `rdf:type` `jolux:LegalResourceSubdivision`. Diese untergeordneten Teile sind mit dem Prädikat `jolux:legalResourceSubdivisionIsPartOf` entweder mit einer `jolux:Consolidation` oder einem `jolux:ConsolidationAbstract` des entsprechenden SR-Eintrags verknüpft.\n",
    "\n",
    "Eine Citation ist dabei auf der zitierenden Seite immer mit einer `jolux:LegalResourceSubdivision` einer `jolux:Consolidation` verknüpft und auf der zitierten Seite immer mit einer `jolux:LegalResourceSubdivision` eines `jolux:ConsolidationAbstract` verknüpft. Eine konkrete Version eines Gesetzes referenziert also die abstrakte und versionsübergreifende Version eines anderen Gesetzes.\n",
    "\n",
    "Mit dem Wissen über die Räpresentation der Zitate im JoLux Datenmodell können wir nun die Information der [Liste der SR-Einträge welche die Bundesverfassung zitieren](https://www.fedlex.admin.ch/eli/cc/1999/404/de/quotes) auch mit SPARQL abfragen:"
   ]
  },
  {
   "cell_type": "code",
   "execution_count": null,
   "metadata": {
    "trusted": true
   },
   "outputs": [],
   "source": [
    "df = query(\"\"\"\n",
    "\n",
    "PREFIX jolux: <http://data.legilux.public.lu/resource/ontology/jolux#>\n",
    "PREFIX skos: <http://www.w3.org/2004/02/skos/core#>\n",
    " \n",
    "SELECT DISTINCT ?Zitierendes_Gesetz_SR ?Zitierendes_Gesetz_Titel ?Zitierendes_Gesetz_Artikel ?Citation_URI WHERE {\n",
    "    \n",
    "    # Wähle alle Subdivision der Bundesverfassung aus\n",
    "    ?Subdivision jolux:legalResourceSubdivisionIsPartOf <https://fedlex.data.admin.ch/eli/cc/1999/404> . \n",
    "    \n",
    "    # Wähle alle Citations die als Ziel eine der Subdivisions angeben\n",
    "    ?Citation_URI jolux:citationToLegalResource ?Subdivision . \n",
    "    # Reduziere die Auswahl auf Zitate im deutschen Text\n",
    "    ?Citation_URI jolux:language <http://publications.europa.eu/resource/authority/language/DEU> .\n",
    "    \n",
    "    # Nun brauchen wir noch die Daten der zitierenden Texte\n",
    "    # Benutze dazu die von der Citation als Quelle angegeben Subdivisions um die dazugehörigen ConsolidationAbstracts auszuwählen \n",
    "    # (LegalResourceSubdivision -> Consolidation -> ConsolidationAbstract)\n",
    "    ?Citation_URI jolux:citationFromLegalResource/jolux:legalResourceSubdivisionIsPartOf/jolux:isMemberOf ?Zitierendes_Gesetz .\n",
    "    \n",
    "    # Wähle wie in Abschnitt 2.3.5 den Titel und die SR Nummer der zitierenden Texte über die Sprachversionen (Expressions) und TaconomyEntries aus \n",
    "    ?Zitierendes_Gesetz jolux:classifiedByTaxonomyEntry ?TaxonomyEntry ; # Wähle alle TaxonomyEntries\n",
    "                        jolux:isRealizedBy ?Expression . # Wähle alle Expressions (Sprachausgaben)\n",
    "    ?TaxonomyEntry skos:notation ?Zitierendes_Gesetz_SR .\n",
    "    ?Expression jolux:language <http://publications.europa.eu/resource/authority/language/DEU> ;\n",
    "                jolux:title ?Zitierendes_Gesetz_Titel .\n",
    "                \n",
    "    # Der genaue Artikel in dem zitiert wird ist in der Citation selbst beschrieben\n",
    "    # Allerdings ist diese Information nicht immer verfügar weshalb wir OPTIONAL benutzen\n",
    "    OPTIONAL { ?Citation_URI jolux:descriptionFrom ?Zitierendes_Gesetz_Artikel . }\n",
    "    \n",
    "    ### Zeige nur Einträge des geltended Rechts (analog zu Abschnitt 2.3.8)\n",
    "    ?Zitierendes_Gesetz jolux:dateEntryInForce ?datumInKraft .\n",
    "    FILTER( ( xsd:date(?datumInKraft) <= xsd:date(now()) ) )\n",
    "    OPTIONAL { ?Zitierendes_Gesetz jolux:dateNoLongerInForce ?datumAufhebung . }\n",
    "    FILTER( !bound(?datumAufhebung) || xsd:date(?datumAufhebung) >= xsd:date(now()) )\n",
    "} \n",
    "\n",
    "ORDER BY desc(?Zitierendes_Gesetz_SR)\n",
    "\n",
    "LIMIT 10\n",
    "\n",
    "\"\"\", \"F\")\n",
    "\n",
    "display_result(df)"
   ]
  },
  {
   "cell_type": "markdown",
   "metadata": {},
   "source": [
    "Existiert keine Information über den Artikel in welchem zitiert wird, befindet sich das Zitat meistens im Titel, oder in der Präambel des Gesetzes, was bei Referenzen auf die Bundesverfassung besonders häufig der Fall ist."
   ]
  },
  {
   "cell_type": "markdown",
   "metadata": {},
   "source": [
    "Basierend auf dem oben beschriebenen Datenmodell können wir die obige Anfrage auch anders herum formulieren, in dem wir von der Quelle der Referenzen ausgehen und die entsprechenden Ziele abfragen. So erhalten wir eine Liste aller SR-Einträge welche von der Bundesverfassung zitiert werden:"
   ]
  },
  {
   "cell_type": "code",
   "execution_count": null,
   "metadata": {
    "trusted": true
   },
   "outputs": [],
   "source": [
    "df = query(\"\"\"\n",
    "\n",
    "PREFIX jolux: <http://data.legilux.public.lu/resource/ontology/jolux#>\n",
    "PREFIX skos: <http://www.w3.org/2004/02/skos/core#>\n",
    "# Führe die Abkürzung \"rdf\" ein\n",
    "PREFIX rdf: <http://www.w3.org/1999/02/22-rdf-syntax-ns#>\n",
    " \n",
    "SELECT DISTINCT ?Zitierender_Artikel ?Zitiertes_Gesetz_SR ?Zitiertes_Gesetz_Titel ?Citation_URI WHERE {\n",
    "    \n",
    "    # Wähle alle Consolidations (Versionen) der Bundesverfassung aus\n",
    "    ?Consolidation jolux:isMemberOf <https://fedlex.data.admin.ch/eli/cc/1999/404> . \n",
    "    # Wähle alle Subdivisions der Versionen aus\n",
    "    ?Subdivision jolux:legalResourceSubdivisionIsPartOf ?Consolidation .\n",
    "    \n",
    "    # Wähle alle Citations die als Quelle eine der Subdivisions angeben\n",
    "    ?Citation_URI jolux:citationFromLegalResource ?Subdivision . \n",
    "    # Reduziere die Auswahl auf Zitate im deutschen Text\n",
    "    ?Citation_URI jolux:language <http://publications.europa.eu/resource/authority/language/DEU> .\n",
    "    \n",
    "    # Nun brauchen wir noch die Daten der zitierten Texte\n",
    "    # Benutze dazu die von der Citation als Ziel angegeben Subdivisions um die dazugehörigen ConsolidationAbstracts auszuwählen \n",
    "    ?Citation_URI jolux:citationToLegalResource/jolux:legalResourceSubdivisionIsPartOf ?Zitiertes_Gesetz .\n",
    "    # Stelle sicher, dass die entsprechenden Einträge SR-Einträge sind.\n",
    "    ?Zitiertes_Gesetz rdf:type jolux:ConsolidationAbstract .\n",
    "    \n",
    "    # Wähle wie in Abschnitt 2.3.4 den Titel und die SR Nummer der zitierenden Texte über die Sprachversionen (Expressions) aus \n",
    "    ?Zitiertes_Gesetz jolux:isRealizedBy ?Expression . # Wähle alle Expressions (Sprachausgaben)\n",
    "    ?Expression jolux:language <http://publications.europa.eu/resource/authority/language/DEU> .\n",
    "    ?Expression jolux:title ?Zitiertes_Gesetz_Titel ;\n",
    "                jolux:historicalLegalId ?Zitiertes_Gesetz_SR .\n",
    "                \n",
    "    # Der genaue Artikel in dem zitiert wird ist in der Citation selbst beschrieben\n",
    "    # Allerdings ist diese Information nicht immer verfügar weshalb wir OPTIONAL benutzen\n",
    "    OPTIONAL { ?Citation_URI jolux:descriptionFrom ?Zitierender_Artikel . }\n",
    "    \n",
    "    \n",
    "    ### Zeige nur Einträge des geltended Rechts (analog zu Abschnitt 2.3.7)\n",
    "    ?Zitiertes_Gesetz jolux:dateEntryInForce ?datumInKraft .\n",
    "    FILTER( ( xsd:date(?datumInKraft) <= xsd:date(now()) ) )\n",
    "    OPTIONAL { ?Zitiertes_Gesetz jolux:dateNoLongerInForce ?datumAufhebung . }\n",
    "    FILTER( !bound(?datumAufhebung) || xsd:date(?datumAufhebung) >= xsd:date(now()) )\n",
    "} \n",
    "\n",
    "ORDER BY desc(?Zitiertes_Gesetz_SR)\n",
    "\n",
    "LIMIT 10\n",
    "\n",
    "\"\"\", \"F\")\n",
    "\n",
    "display_result(df)"
   ]
  },
  {
   "cell_type": "markdown",
   "metadata": {},
   "source": [
    "## Impacts: Änderungen der SR durch AS-Erlasse<a class=\"anchor\" id=\"citations\"></a>"
   ]
  },
  {
   "cell_type": "markdown",
   "metadata": {},
   "source": [
    "In Erlassen der Amtlichen Sammlung (AS) können sowohl neue Gesetze erlassen werden, als auch Teile von schon bestehenden Gesetzen geändert oder aufgehoben werden. Ein neuer Eintrag in der AS führt dementsprechend im Normalfall zu Änderungen in bestehenden SR-Einträgen, die in einer neuen Version (Consolidation) konsolidiert werden. Die bisherigen Änderungen der Bundesverfassung beispielsweise und die dazugehörigen Erlasse in der AS können in der HTML-Ansicht über den Link [Änderungen](https://www.fedlex.admin.ch/eli/cc/1999/404/de/changes) sichtbar gemacht werden. \n",
    "\n",
    "<br><img src=\"img/header_BV_Änderungen.png\" width=\"800px\">\n",
    "\n",
    "AS-Einträge sind im JoLux Datenmodell durch Objekte vom `rdf:type` `jolux:Act` repräsentiert. Die Änderungen oder Auswirkungen eines AS-Eintrags auf die SR sind durch Objekte vom `rdf:type` `jolux:LegalResourceImpact` repräsentiert. Ähnlich wie die `jolux:Citation` Objekte sind diese dabei sowohl auf der Quellseite (durch `jolux:impactFromLegalResource`) als auch auf der Zielseite (durch `jolux:impactToLegalResource`) mit einer `jolux:LegalResourceSubdivision` verknüpft. Dabei zeigt der Impact auf der Quellseite immer auf eine Subdivision eines `jolux:Act` und auf der Zielseite auf eine Subdivision eines `jolux:ConsolidationAbstract`."
   ]
  },
  {
   "cell_type": "markdown",
   "metadata": {},
   "source": [
    "<br><img src=img/impact.svg>\n",
    "<br>"
   ]
  },
  {
   "cell_type": "markdown",
   "metadata": {},
   "source": [
    "Das obige Beispiel zeigt einen [Impact](https://fedlex.data.admin.ch/eli/cc/1999/404/impact/226) auf den Art. 196 der [Bundesverfassung](https://www.fedlex.admin.ch/eli/cc/1999/404/de) durch den [Bundesbeschluss über die neue Finanzordnung 2021 (AS 2019 769)](https://www.fedlex.admin.ch/eli/oc/2019/137/de) ausgedrückt im JoLux Datenmodell. Informationen wie die Art der Änderung (Inkrafttreten, Änderung, Berichtigung oder Aufhebung), die geänderten Artikel oder der Teil des Beschlusses, welcher die Änderung bewirkt, sind als Atrribute den Impacts oder den Subdivisions (je nach Alter der Gesetze) zugeordnet.\n",
    "\n",
    "Mit dem Wissen über Impacts können wir nun die Änderungen der Bundesverfassung auch über SPARQL abfragen:"
   ]
  },
  {
   "cell_type": "code",
   "execution_count": null,
   "metadata": {
    "trusted": true
   },
   "outputs": [],
   "source": [
    "df = query(\"\"\"\n",
    "\n",
    "PREFIX jolux: <http://data.legilux.public.lu/resource/ontology/jolux#>\n",
    "PREFIX skos: <http://www.w3.org/2004/02/skos/core#>\n",
    " \n",
    "SELECT DISTINCT ?Typ ?Beschluss_Datum ?Artikel_geaendert ?Beschluss ?AS_URI ?Impact_URI WHERE { \n",
    "    \n",
    "    # Wähle alle Subdivisions der Bundesverfassung\n",
    "    ?SRsubdivision jolux:legalResourceSubdivisionIsPartOf <https://fedlex.data.admin.ch/eli/cc/1999/404> . \n",
    "    \n",
    "    # Wähle all Impacts die als Ziel eine Subdivisions der Bundesverfassung angeben, sowie die Eigenschaften der Impacts\n",
    "    ?Impact_URI jolux:impactToLegalResource ?SRsubdivision ;\n",
    "            jolux:language <http://publications.europa.eu/resource/authority/language/DEU> ; # Nur Deutsche Versionen\n",
    "            jolux:legalResourceImpactHasType/skos:prefLabel ?Typ ; # Info über die Art der Änderung\n",
    "            jolux:impactFromLegalResource/jolux:legalResourceSubdivisionIsPartOf ?AS_URI . # Auswählen der Quellen der Änderungen (AS-Einträge)\n",
    "    FILTER(lang(?Typ) = 'de')  # Nur die deutschen Bezeichnungen\n",
    "    \n",
    "    # Impacts in der Datenbank können von verschiedenen Datenquellen kommen. Hier wollen wir eine bestimmte auswählen.\n",
    "    ?Impact_URI jolux:informationSource ?source .\n",
    "    FILTER(?source = <https://fedlex.data.admin.ch/vocabulary/information-source/data-from-mutation>)\n",
    "    \n",
    "    # Abfrage der Info welcher Teil des Bundesbeschlusses die Änderung beinhaltet (Nicht alle Impacts haben dieses Atribut deshalb OPTIONAL)\n",
    "    OPTIONAL { ?AS_URI jolux:dateDocument ?Beschluss_Datum . }\n",
    "    OPTIONAL { ?Impact_URI jolux:impactFromLegalResourceComment ?Beschluss . FILTER(lang(?Beschluss)='de') . }\n",
    "    \n",
    "    # Abfrage der Info welche Artikel die Änderung betrifft (Nicht alle Impacts haben dieses Atribut deshalb OPTIONAL)\n",
    "    OPTIONAL { ?Impact_URI jolux:impactToLegalResourceComment ?Artikel_geaendert . FILTER(lang(?Artikel_geaendert)='de') . }\n",
    "     \n",
    "} ORDER BY desc(?Typ) ?Beschluss_Datum\n",
    "\n",
    "\"\"\", \"F\")\n",
    "\n",
    "display_result(df)"
   ]
  },
  {
   "cell_type": "markdown",
   "metadata": {},
   "source": [
    "Die Sprache von String-Literals kann durch einen Language-Tag gekennzeichnet sein. Ist, wie in der obigen Abfrage, ein Attribut mehrmals belegt mit Literals in unterschiedlichen Sprachen, kann mit der `FILTER()` Funktion und der `lang()` Funktion die Auswahl auf die gewünschte Sprache reduziert werden. Die Funktion `lang()` gibt dabei, falls existent, den Language-Tag des Literals zurück.\n",
    "\n",
    "Bei einem Vergleich der Ergebnisse mit der [HTML-Ansicht](https://www.fedlex.admin.ch/eli/cc/1999/404/de/changes) fällt auf, dass die Änderungen ab 2020 in den Ergebnissen der SPARQL-Abfrage fehlen. Das liegt daran, dass es für Impacts in den Daten mehrere Datenquellen gibt ([Geschäftsstaende](https://fedlex.data.admin.ch/vocabulary/information-source/data-from-geschaeftsstaende), [Mutation](https://fedlex.data.admin.ch/vocabulary/information-source/data-from-mutation) und [Legiconso](https://fedlex.data.admin.ch/vocabulary/information-source/data-from-legiconso)) und einfachheitshalber in der obigen Abfrage nur Impacts die aus einer bestimmten Quelle ([Mutation](https://fedlex.data.admin.ch/vocabulary/information-source/data-from-mutation)) stammen abgerufen wurden während, die neueren Impacts lediglich in der Quelle [Legiconso](https://fedlex.data.admin.ch/vocabulary/information-source/data-from-legiconso) verfügbar sind. Eine komplette Liste aller Änderungen bedarf daher die Zusammenführung der Informationen aus den verschiedenen Quellen und Speicherorten, was in der nachfolgenden Abfrage durchgeführt wird:\n",
    "\n",
    "**Die nachfolgende Abfrage geht über den Rahmen dieses einführenden Tutorials hinaus und wird daher hier nicht weiter erläutert:**"
   ]
  },
  {
   "cell_type": "code",
   "execution_count": null,
   "metadata": {
    "tags": [],
    "trusted": true
   },
   "outputs": [],
   "source": [
    "df = query(\"\"\"\n",
    "\n",
    "PREFIX jolux: <http://data.legilux.public.lu/resource/ontology/jolux#>\n",
    "PREFIX skos: <http://www.w3.org/2004/02/skos/core#>\n",
    "\n",
    "# SAMPLE, MAX und GROUP_CONCAT sind Aggregierfunctionen die über alle Listeneinträge angewandt werden die in den GROUP BY variablen gleiche Werte haben\n",
    "SELECT (SAMPLE(?Typ) AS ?Typ) ?Beschluss (SAMPLE(?Inkrafttreten) AS ?Inkrafttreten) (GROUP_CONCAT(?Art_geaendert; SEPARATOR=', ') AS ?Artikel_geaendert) ?AS_Nr \n",
    "?AS_Titel (MAX(?AS_Artikel) AS ?AS_Artikel) ?AS_URI (GROUP_CONCAT(?Impact_URI; SEPARATOR='    ') AS ?Impact_URIs)  WHERE { \n",
    "    \n",
    "    # Wähle alle Subdivisions der Bundesverfassung\n",
    "    ?SRsubdivision jolux:legalResourceSubdivisionIsPartOf <https://fedlex.data.admin.ch/eli/cc/1999/404> .\n",
    "    \n",
    "    # Wähle all Impacts die als Ziel eine Subdivisions der Bundesverfassung angeben, sowie die Eigenschaften der Impacts\n",
    "    ?Impact_URI jolux:impactToLegalResource ?SRsubdivision ;\n",
    "            jolux:language <http://publications.europa.eu/resource/authority/language/DEU> ; # Nur Deutsche Versionen\n",
    "            jolux:legalResourceImpactHasType/skos:prefLabel ?Typ ; # Info über die Art der Änderung\n",
    "            jolux:legalResourceImpactHasDateEntryInForce ?Inkrafttreten ; # Datum des Inkrafttreten der Änderung\n",
    "            jolux:impactFromLegalResource/jolux:legalResourceSubdivisionIsPartOf ?AS_URI ; # Auswählen der Quellen der Änderungen (AS-Einträge)\n",
    "            jolux:informationSource ?source . # Abfragen aus welcher Datenquelle der Impact stammt\n",
    "    FILTER(lang(?Typ) = 'de') # Nur die deutschen Bezeichnungen\n",
    "     \n",
    "    # Informationen zu Beschlussdatum der AS-Einträgs sowie Titel der AS-Einträge\n",
    "    ?AS_URI jolux:dateDocument ?Beschluss ;\n",
    "            jolux:isRealizedBy ?AS_Expression .       \n",
    "    ?AS_Expression jolux:language <http://publications.europa.eu/resource/authority/language/DEU> ;\n",
    "                   jolux:title ?AS_Titel .\n",
    "                   \n",
    "    # Ältere AS haben die AS Nummer als Attribut gespeichert               \n",
    "    OPTIONAL { ?AS_Expression jolux:historicalLegalId ?AS_Nr_ . }\n",
    "    # Für neuere AS-Einträge muss diese erst zusammengesetzt werden aus Veröffentlichungsjahr und Veröffentlichungssequenz\n",
    "    OPTIONAL { ?AS_Expression jolux:memorialName ?AS_Nr_Teil1 . }\n",
    "    OPTIONAL { ?AS_Expression jolux:memorialYear ?AS_Nr_Teil2 . }\n",
    "    OPTIONAL { ?AS_URI jolux:sequenceInTheYearOfPublication ?AS_Nr_Teil3 . }\n",
    "    BIND(IF(bound(?AS_Nr), ?AS_Nr_, CONCAT(str(?AS_Nr_Teil1), ' ', str(?AS_Nr_Teil2), ' ', str(?AS_Nr_Teil3))) as ?AS_Nr)\n",
    "    \n",
    "    # Abfrage der Info welcher Teil des AS-Eintrags die Änderung auslöst\n",
    "    # Für ältere Impacts ist diese Info ein Attribut von Impacts aus der Quelle Geschäftsende\n",
    "    OPTIONAL { \n",
    "    ?Impact_URI jolux:informationSource <https://fedlex.data.admin.ch/vocabulary/information-source/data-from-geschaeftsstaende> .\n",
    "    ?Impact_URI jolux:impactFromLegalResourceComment ?AS_Artikel1 . FILTER(lang(?AS_Artikel1)='de') . \n",
    "    }\n",
    "    # Für neuere Impacts aus der Quelle Legiconso ist die Info ein Attribut der Quellseitigen Subdivision\n",
    "    OPTIONAL { ?Impact_URI jolux:impactFromLegalResource/jolux:legalResourceSubdivisionHasSubdivisionIdentificationDetail/jolux:legalResourceSubdivisionDetailId ?AS_Artikel2 .}\n",
    "    BIND ( IF(?source in (<https://fedlex.data.admin.ch/vocabulary/information-source/data-from-geschaeftsstaende>,<https://fedlex.data.admin.ch/vocabulary/information-source/data-from-mutation>), ?AS_Artikel1, ?AS_Artikel2)\n",
    "        AS ?AS_Artikel )\n",
    "    \n",
    "    # Abfrage der Info welcher Teil des Bundesbeschlusses die Änderung beinhaltet\n",
    "    # Für ältere Impacts ist diese Info ein Attribut von Impacts aus der Quelle Mutation\n",
    "    OPTIONAL { \n",
    "    ?Impact_URI jolux:informationSource <https://fedlex.data.admin.ch/vocabulary/information-source/data-from-mutation> .\n",
    "    ?Impact_URI jolux:impactToLegalResourceComment ?geaendert1 . FILTER(lang(?geändert1)='de') . \n",
    "    }\n",
    "    # Für neuere Impacts aus der Quelle Legiconso ist die Info ein Attribut der Zielseitigen Subdivision\n",
    "    OPTIONAL { ?SRsubdivision jolux:legalResourceSubdivisionHasSubdivisionIdentificationDetail/jolux:legalResourceSubdivisionDetailId ?geaendert2 . } # Not all SR Subdivisions have that Info\n",
    "    BIND ( IF(?source in (<https://fedlex.data.admin.ch/vocabulary/information-source/data-from-geschaeftsstaende>,<https://fedlex.data.admin.ch/vocabulary/information-source/data-from-mutation>), ?geaendert1, ?geaendert2) AS ?Art_geaendert )\n",
    "     \n",
    "} \n",
    "\n",
    "# Listeneinträge welche über diese variablen die gleichen Werte haben werden mit den im SELECT-Statement angegebenen Funktionen aggregiert\n",
    "GROUP BY ?Beschluss ?AS_Nr ?AS_Titel ?AS_URI ?Artikel_geaendert\n",
    "\n",
    "ORDER BY desc(?Beschluss)\n",
    "\n",
    "\"\"\", \"F\")\n",
    "\n",
    "display_result(df)"
   ]
  },
  {
   "cell_type": "markdown",
   "metadata": {},
   "source": [
    "# Impressum\n",
    "\n",
    "<a rel=\"license\" href=\"http://creativecommons.org/licenses/by-sa/4.0/\"><img alt=\"Creative Commons Lizenzvertrag\" style=\"border-width:0\" src=\"https://mirrors.creativecommons.org/presskit/buttons/88x31/svg/by-sa.svg\" /></a><br />Dieses Werk ist lizenziert unter einer <a rel=\"license\" href=\"http://creativecommons.org/licenses/by-sa/4.0/\">Creative Commons Namensnennung - Weitergabe unter gleichen Bedingungen 4.0 International Lizenz</a>.\n",
    "\n",
    "Autoren: \n",
    "\n",
    "- [Jurek Müller](https://www.bfh.ch/de/ueber-die-bfh/personen/mgkgz24ggjae/)\n",
    "- [Benedikt Hitz-Gamper](https://www.bfh.ch/de/ueber-die-bfh/personen/pfy22fbnthud/)"
   ]
  }
 ],
 "metadata": {
  "kernelspec": {
   "display_name": "Python (Pyodide)",
   "language": "python",
   "name": "python"
  },
  "language_info": {
   "codemirror_mode": {
    "name": "python",
    "version": 3
   },
   "file_extension": ".py",
   "mimetype": "text/x-python",
   "name": "python",
   "nbconvert_exporter": "python",
   "pygments_lexer": "ipython3",
   "version": "3.8"
  },
  "toc-autonumbering": true
 },
 "nbformat": 4,
 "nbformat_minor": 4
}
